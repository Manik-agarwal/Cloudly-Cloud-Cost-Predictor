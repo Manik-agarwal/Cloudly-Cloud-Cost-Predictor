{
 "cells": [
  {
   "cell_type": "code",
   "execution_count": 1,
   "id": "bfeebe0a-d7b3-4257-aace-bfe49aaf8d27",
   "metadata": {},
   "outputs": [],
   "source": [
    "import pandas as pd  \n",
    "import numpy as np"
   ]
  },
  {
   "cell_type": "code",
   "execution_count": 2,
   "id": "34ec7e13-a5cf-42b6-bf86-1fbf1bd2fedb",
   "metadata": {},
   "outputs": [],
   "source": [
    "us_east=pd.read_csv(\"datasets/us-east-1.csv\")\n",
    "us_west=pd.read_csv(\"datasets/us-west-1.csv\")"
   ]
  },
  {
   "cell_type": "markdown",
   "id": "a3ab8a18-4434-4c22-b420-77a76243a2c3",
   "metadata": {},
   "source": [
    "# DATA PREPROCESSING"
   ]
  },
  {
   "cell_type": "code",
   "execution_count": 3,
   "id": "38b28e60-af5f-44b5-979b-e6607d892e62",
   "metadata": {},
   "outputs": [
    {
     "data": {
      "text/html": [
       "<div>\n",
       "<style scoped>\n",
       "    .dataframe tbody tr th:only-of-type {\n",
       "        vertical-align: middle;\n",
       "    }\n",
       "\n",
       "    .dataframe tbody tr th {\n",
       "        vertical-align: top;\n",
       "    }\n",
       "\n",
       "    .dataframe thead th {\n",
       "        text-align: right;\n",
       "    }\n",
       "</style>\n",
       "<table border=\"1\" class=\"dataframe\">\n",
       "  <thead>\n",
       "    <tr style=\"text-align: right;\">\n",
       "      <th></th>\n",
       "      <th>2017-05-08 21:38:41+00:00</th>\n",
       "      <th>d2.xlarge</th>\n",
       "      <th>SUSE Linux</th>\n",
       "      <th>us-east-1c</th>\n",
       "      <th>0.277</th>\n",
       "    </tr>\n",
       "  </thead>\n",
       "  <tbody>\n",
       "    <tr>\n",
       "      <th>0</th>\n",
       "      <td>2017-05-08 21:38:41+00:00</td>\n",
       "      <td>d2.xlarge</td>\n",
       "      <td>Linux/UNIX</td>\n",
       "      <td>us-east-1c</td>\n",
       "      <td>0.1770</td>\n",
       "    </tr>\n",
       "    <tr>\n",
       "      <th>1</th>\n",
       "      <td>2017-05-08 21:38:37+00:00</td>\n",
       "      <td>c3.4xlarge</td>\n",
       "      <td>SUSE Linux</td>\n",
       "      <td>us-east-1d</td>\n",
       "      <td>0.4061</td>\n",
       "    </tr>\n",
       "    <tr>\n",
       "      <th>2</th>\n",
       "      <td>2017-05-08 21:38:37+00:00</td>\n",
       "      <td>c3.4xlarge</td>\n",
       "      <td>Linux/UNIX</td>\n",
       "      <td>us-east-1d</td>\n",
       "      <td>0.3061</td>\n",
       "    </tr>\n",
       "    <tr>\n",
       "      <th>3</th>\n",
       "      <td>2017-05-08 21:38:37+00:00</td>\n",
       "      <td>m4.10xlarge</td>\n",
       "      <td>SUSE Linux</td>\n",
       "      <td>us-east-1d</td>\n",
       "      <td>0.8234</td>\n",
       "    </tr>\n",
       "    <tr>\n",
       "      <th>4</th>\n",
       "      <td>2017-05-08 21:38:37+00:00</td>\n",
       "      <td>m4.10xlarge</td>\n",
       "      <td>Linux/UNIX</td>\n",
       "      <td>us-east-1d</td>\n",
       "      <td>0.7234</td>\n",
       "    </tr>\n",
       "  </tbody>\n",
       "</table>\n",
       "</div>"
      ],
      "text/plain": [
       "   2017-05-08 21:38:41+00:00    d2.xlarge  SUSE Linux  us-east-1c   0.277\n",
       "0  2017-05-08 21:38:41+00:00    d2.xlarge  Linux/UNIX  us-east-1c  0.1770\n",
       "1  2017-05-08 21:38:37+00:00   c3.4xlarge  SUSE Linux  us-east-1d  0.4061\n",
       "2  2017-05-08 21:38:37+00:00   c3.4xlarge  Linux/UNIX  us-east-1d  0.3061\n",
       "3  2017-05-08 21:38:37+00:00  m4.10xlarge  SUSE Linux  us-east-1d  0.8234\n",
       "4  2017-05-08 21:38:37+00:00  m4.10xlarge  Linux/UNIX  us-east-1d  0.7234"
      ]
     },
     "execution_count": 3,
     "metadata": {},
     "output_type": "execute_result"
    }
   ],
   "source": [
    "us_east.head()"
   ]
  },
  {
   "cell_type": "code",
   "execution_count": 4,
   "id": "9cba6b84-d506-4cc7-a82a-8244ee19582b",
   "metadata": {},
   "outputs": [
    {
     "data": {
      "text/html": [
       "<div>\n",
       "<style scoped>\n",
       "    .dataframe tbody tr th:only-of-type {\n",
       "        vertical-align: middle;\n",
       "    }\n",
       "\n",
       "    .dataframe tbody tr th {\n",
       "        vertical-align: top;\n",
       "    }\n",
       "\n",
       "    .dataframe thead th {\n",
       "        text-align: right;\n",
       "    }\n",
       "</style>\n",
       "<table border=\"1\" class=\"dataframe\">\n",
       "  <thead>\n",
       "    <tr style=\"text-align: right;\">\n",
       "      <th></th>\n",
       "      <th>2017-05-08 21:45:45+00:00</th>\n",
       "      <th>c3.4xlarge</th>\n",
       "      <th>Windows</th>\n",
       "      <th>us-west-1b</th>\n",
       "      <th>0.5022</th>\n",
       "    </tr>\n",
       "  </thead>\n",
       "  <tbody>\n",
       "    <tr>\n",
       "      <th>0</th>\n",
       "      <td>2017-05-08 21:45:35+00:00</td>\n",
       "      <td>r3.2xlarge</td>\n",
       "      <td>SUSE Linux</td>\n",
       "      <td>us-west-1c</td>\n",
       "      <td>0.2763</td>\n",
       "    </tr>\n",
       "    <tr>\n",
       "      <th>1</th>\n",
       "      <td>2017-05-08 21:45:35+00:00</td>\n",
       "      <td>r3.2xlarge</td>\n",
       "      <td>Linux/UNIX</td>\n",
       "      <td>us-west-1c</td>\n",
       "      <td>0.1763</td>\n",
       "    </tr>\n",
       "    <tr>\n",
       "      <th>2</th>\n",
       "      <td>2017-05-08 21:45:29+00:00</td>\n",
       "      <td>c4.8xlarge</td>\n",
       "      <td>Windows</td>\n",
       "      <td>us-west-1b</td>\n",
       "      <td>1.6136</td>\n",
       "    </tr>\n",
       "    <tr>\n",
       "      <th>3</th>\n",
       "      <td>2017-05-08 21:45:27+00:00</td>\n",
       "      <td>c3.8xlarge</td>\n",
       "      <td>Windows</td>\n",
       "      <td>us-west-1b</td>\n",
       "      <td>1.0150</td>\n",
       "    </tr>\n",
       "    <tr>\n",
       "      <th>4</th>\n",
       "      <td>2017-05-08 21:45:27+00:00</td>\n",
       "      <td>c3.8xlarge</td>\n",
       "      <td>Windows</td>\n",
       "      <td>us-west-1c</td>\n",
       "      <td>1.0038</td>\n",
       "    </tr>\n",
       "  </tbody>\n",
       "</table>\n",
       "</div>"
      ],
      "text/plain": [
       "   2017-05-08 21:45:45+00:00  c3.4xlarge     Windows  us-west-1b  0.5022\n",
       "0  2017-05-08 21:45:35+00:00  r3.2xlarge  SUSE Linux  us-west-1c  0.2763\n",
       "1  2017-05-08 21:45:35+00:00  r3.2xlarge  Linux/UNIX  us-west-1c  0.1763\n",
       "2  2017-05-08 21:45:29+00:00  c4.8xlarge     Windows  us-west-1b  1.6136\n",
       "3  2017-05-08 21:45:27+00:00  c3.8xlarge     Windows  us-west-1b  1.0150\n",
       "4  2017-05-08 21:45:27+00:00  c3.8xlarge     Windows  us-west-1c  1.0038"
      ]
     },
     "execution_count": 4,
     "metadata": {},
     "output_type": "execute_result"
    }
   ],
   "source": [
    "us_west.head()"
   ]
  },
  {
   "cell_type": "code",
   "execution_count": 5,
   "id": "920ab5e0-1bbe-4eb0-b739-74af0d57cf3b",
   "metadata": {},
   "outputs": [],
   "source": [
    "labels=['Date',\"Instance Type\",\"OS\",\"Region\",\"Price($)\"]"
   ]
  },
  {
   "cell_type": "code",
   "execution_count": 6,
   "id": "3a275ca4-d21a-416f-8c50-dc265a39c6f5",
   "metadata": {},
   "outputs": [],
   "source": [
    "us_east.columns=labels\n",
    "us_west.columns=labels"
   ]
  },
  {
   "cell_type": "code",
   "execution_count": 7,
   "id": "24c69cb0-2012-42f8-bb82-54d1f8ddc26d",
   "metadata": {},
   "outputs": [],
   "source": [
    "us_east['Date'] = pd.to_datetime(us_east['Date'])\n",
    "us_west['Date'] = pd.to_datetime(us_west['Date'])"
   ]
  },
  {
   "cell_type": "code",
   "execution_count": 8,
   "id": "c5f7c6e7-3e72-4674-8a58-6df733ca7b88",
   "metadata": {},
   "outputs": [
    {
     "name": "stdout",
     "output_type": "stream",
     "text": [
      "\n",
      "Missing values in US East:\n",
      "Date             0\n",
      "Instance Type    0\n",
      "OS               0\n",
      "Region           0\n",
      "Price($)         0\n",
      "dtype: int64\n",
      "\n",
      "Missing values in US West:\n",
      "Date             0\n",
      "Instance Type    0\n",
      "OS               0\n",
      "Region           0\n",
      "Price($)         0\n",
      "dtype: int64\n"
     ]
    }
   ],
   "source": [
    "print(\"\\nMissing values in US East:\")\n",
    "print(us_east.isnull().sum())\n",
    "\n",
    "print(\"\\nMissing values in US West:\")\n",
    "print(us_west.isnull().sum())"
   ]
  },
  {
   "cell_type": "code",
   "execution_count": 9,
   "id": "4105557e-f10a-4e01-a018-fa527987cae0",
   "metadata": {},
   "outputs": [],
   "source": [
    "us_east['Region'] = 'us-east'\n",
    "us_west['Region'] = 'us-west'"
   ]
  },
  {
   "cell_type": "code",
   "execution_count": 10,
   "id": "b15e8d28-d8a7-4033-bece-01cdc4482d37",
   "metadata": {},
   "outputs": [
    {
     "data": {
      "text/html": [
       "<div>\n",
       "<style scoped>\n",
       "    .dataframe tbody tr th:only-of-type {\n",
       "        vertical-align: middle;\n",
       "    }\n",
       "\n",
       "    .dataframe tbody tr th {\n",
       "        vertical-align: top;\n",
       "    }\n",
       "\n",
       "    .dataframe thead th {\n",
       "        text-align: right;\n",
       "    }\n",
       "</style>\n",
       "<table border=\"1\" class=\"dataframe\">\n",
       "  <thead>\n",
       "    <tr style=\"text-align: right;\">\n",
       "      <th></th>\n",
       "      <th>Date</th>\n",
       "      <th>Instance Type</th>\n",
       "      <th>OS</th>\n",
       "      <th>Region</th>\n",
       "      <th>Price($)</th>\n",
       "    </tr>\n",
       "  </thead>\n",
       "  <tbody>\n",
       "    <tr>\n",
       "      <th>0</th>\n",
       "      <td>2017-05-08 21:38:41+00:00</td>\n",
       "      <td>d2.xlarge</td>\n",
       "      <td>Linux/UNIX</td>\n",
       "      <td>us-east</td>\n",
       "      <td>0.1770</td>\n",
       "    </tr>\n",
       "    <tr>\n",
       "      <th>1</th>\n",
       "      <td>2017-05-08 21:38:37+00:00</td>\n",
       "      <td>c3.4xlarge</td>\n",
       "      <td>SUSE Linux</td>\n",
       "      <td>us-east</td>\n",
       "      <td>0.4061</td>\n",
       "    </tr>\n",
       "    <tr>\n",
       "      <th>2</th>\n",
       "      <td>2017-05-08 21:38:37+00:00</td>\n",
       "      <td>c3.4xlarge</td>\n",
       "      <td>Linux/UNIX</td>\n",
       "      <td>us-east</td>\n",
       "      <td>0.3061</td>\n",
       "    </tr>\n",
       "    <tr>\n",
       "      <th>3</th>\n",
       "      <td>2017-05-08 21:38:37+00:00</td>\n",
       "      <td>m4.10xlarge</td>\n",
       "      <td>SUSE Linux</td>\n",
       "      <td>us-east</td>\n",
       "      <td>0.8234</td>\n",
       "    </tr>\n",
       "    <tr>\n",
       "      <th>4</th>\n",
       "      <td>2017-05-08 21:38:37+00:00</td>\n",
       "      <td>m4.10xlarge</td>\n",
       "      <td>Linux/UNIX</td>\n",
       "      <td>us-east</td>\n",
       "      <td>0.7234</td>\n",
       "    </tr>\n",
       "    <tr>\n",
       "      <th>...</th>\n",
       "      <td>...</td>\n",
       "      <td>...</td>\n",
       "      <td>...</td>\n",
       "      <td>...</td>\n",
       "      <td>...</td>\n",
       "    </tr>\n",
       "    <tr>\n",
       "      <th>2497994</th>\n",
       "      <td>2017-03-24 19:47:16+00:00</td>\n",
       "      <td>r3.xlarge</td>\n",
       "      <td>SUSE Linux</td>\n",
       "      <td>us-west</td>\n",
       "      <td>0.1471</td>\n",
       "    </tr>\n",
       "    <tr>\n",
       "      <th>2497995</th>\n",
       "      <td>2017-03-24 19:47:16+00:00</td>\n",
       "      <td>r3.xlarge</td>\n",
       "      <td>Linux/UNIX</td>\n",
       "      <td>us-west</td>\n",
       "      <td>0.0471</td>\n",
       "    </tr>\n",
       "    <tr>\n",
       "      <th>2497996</th>\n",
       "      <td>2017-03-24 19:47:09+00:00</td>\n",
       "      <td>g2.2xlarge</td>\n",
       "      <td>Windows</td>\n",
       "      <td>us-west</td>\n",
       "      <td>0.1626</td>\n",
       "    </tr>\n",
       "    <tr>\n",
       "      <th>2497997</th>\n",
       "      <td>2017-03-24 19:47:07+00:00</td>\n",
       "      <td>m1.medium</td>\n",
       "      <td>Windows</td>\n",
       "      <td>us-west</td>\n",
       "      <td>0.0409</td>\n",
       "    </tr>\n",
       "    <tr>\n",
       "      <th>2497998</th>\n",
       "      <td>2017-03-24 19:47:06+00:00</td>\n",
       "      <td>m3.large</td>\n",
       "      <td>SUSE Linux</td>\n",
       "      <td>us-west</td>\n",
       "      <td>0.1244</td>\n",
       "    </tr>\n",
       "  </tbody>\n",
       "</table>\n",
       "<p>6219998 rows × 5 columns</p>\n",
       "</div>"
      ],
      "text/plain": [
       "                             Date Instance Type          OS   Region  Price($)\n",
       "0       2017-05-08 21:38:41+00:00     d2.xlarge  Linux/UNIX  us-east    0.1770\n",
       "1       2017-05-08 21:38:37+00:00    c3.4xlarge  SUSE Linux  us-east    0.4061\n",
       "2       2017-05-08 21:38:37+00:00    c3.4xlarge  Linux/UNIX  us-east    0.3061\n",
       "3       2017-05-08 21:38:37+00:00   m4.10xlarge  SUSE Linux  us-east    0.8234\n",
       "4       2017-05-08 21:38:37+00:00   m4.10xlarge  Linux/UNIX  us-east    0.7234\n",
       "...                           ...           ...         ...      ...       ...\n",
       "2497994 2017-03-24 19:47:16+00:00     r3.xlarge  SUSE Linux  us-west    0.1471\n",
       "2497995 2017-03-24 19:47:16+00:00     r3.xlarge  Linux/UNIX  us-west    0.0471\n",
       "2497996 2017-03-24 19:47:09+00:00    g2.2xlarge     Windows  us-west    0.1626\n",
       "2497997 2017-03-24 19:47:07+00:00     m1.medium     Windows  us-west    0.0409\n",
       "2497998 2017-03-24 19:47:06+00:00      m3.large  SUSE Linux  us-west    0.1244\n",
       "\n",
       "[6219998 rows x 5 columns]"
      ]
     },
     "execution_count": 10,
     "metadata": {},
     "output_type": "execute_result"
    }
   ],
   "source": [
    "data = pd.concat([us_east, us_west])\n",
    "data"
   ]
  },
  {
   "cell_type": "code",
   "execution_count": 16,
   "id": "a32cd9e8-f718-49f2-87c0-ddcd0a6aafb2",
   "metadata": {},
   "outputs": [],
   "source": [
    "data['Date']=pd.to_datetime(data['Date'])"
   ]
  },
  {
   "cell_type": "code",
   "execution_count": null,
   "id": "7088cdac-ba7e-4b36-9d9a-ebf0e430f9d6",
   "metadata": {},
   "outputs": [],
   "source": [
    "data['Year']=data['Date'].dt.year\n",
    "data['Month']=data['Date'].dt.month"
   ]
  },
  {
   "cell_type": "code",
   "execution_count": null,
   "id": "8c8b5039-f496-4b3b-879a-c0dd84d84e93",
   "metadata": {},
   "outputs": [],
   "source": []
  }
 ],
 "metadata": {
  "kernelspec": {
   "display_name": "Python 3 (ipykernel)",
   "language": "python",
   "name": "python3"
  },
  "language_info": {
   "codemirror_mode": {
    "name": "ipython",
    "version": 3
   },
   "file_extension": ".py",
   "mimetype": "text/x-python",
   "name": "python",
   "nbconvert_exporter": "python",
   "pygments_lexer": "ipython3",
   "version": "3.11.7"
  }
 },
 "nbformat": 4,
 "nbformat_minor": 5
}
